{
 "cells": [
  {
   "cell_type": "code",
   "execution_count": 216,
   "metadata": {},
   "outputs": [],
   "source": [
    "import numpy as np\n",
    "import pandas as pd\n",
    "import sklearn\n",
    "import csv\n",
    "import keras\n",
    "from keras import optimizers\n",
    "from sklearn.model_selection import train_test_split\n",
    "from keras.models import Sequential\n",
    "from keras.layers import Dense, Dropout, Activation, Flatten\n",
    "from keras.layers import Convolution2D \n",
    "from keras.utils import to_categorical\n",
    "from keras.utils import np_utils\n",
    "from keras.layers import Conv2D, GlobalMaxPooling2D, Bidirectional, LSTM, GRU"
   ]
  },
  {
   "cell_type": "code",
   "execution_count": 217,
   "metadata": {},
   "outputs": [
    {
     "name": "stdout",
     "output_type": "stream",
     "text": [
      "(1800, 1, 14, 4)\n"
     ]
    }
   ],
   "source": [
    "df1 = pd.read_csv('/home/swapnendu/Downloads/train.csv')\n",
    "df1.fillna(0,inplace=True)\n",
    "\n",
    "id1 = np.zeros((1,2000))\n",
    "lab = np.zeros((1,2000))\n",
    "seq = df1['sequence']\n",
    "labl = df1['label']\n",
    "\n",
    "characters = {}\n",
    "characters = {'A' : 0 , 'G' : 1 , 'C' : 2, 'T' : 3}\n",
    "\n",
    "id2 = np.zeros((2000,1,14))\n",
    "\n",
    "for x in range(2000):\n",
    " id2[x] = [characters[ch] for ch in seq[x]]\n",
    "\n",
    "encoded = to_categorical(id2)\n",
    "X_train, X_test, y_train, y_test = train_test_split(encoded, labl, test_size=0.1)\n",
    "print(X_train.shape)"
   ]
  },
  {
   "cell_type": "code",
   "execution_count": 218,
   "metadata": {},
   "outputs": [
    {
     "name": "stdout",
     "output_type": "stream",
     "text": [
      "(None, 32)\n"
     ]
    }
   ],
   "source": [
    "        model=Sequential()\n",
    "        model.add(Conv2D(128, (1, 24), padding='same', input_shape=(1,14,4), activation='relu'))\n",
    "        model.add(GlobalMaxPooling2D())\n",
    "\n",
    "        model.add(Dense(32,activation='relu'))\n",
    "        print(model.output_shape)\n",
    "        model.add(Dense(1))\n",
    "        model.add(Activation('sigmoid'))\n"
   ]
  },
  {
   "cell_type": "code",
   "execution_count": 219,
   "metadata": {},
   "outputs": [
    {
     "name": "stdout",
     "output_type": "stream",
     "text": [
      "Epoch 1/100\n",
      "1800/1800 [==============================] - 1s 759us/step - loss: 0.6786 - acc: 0.6900\n",
      "Epoch 2/100\n",
      "1800/1800 [==============================] - 0s 139us/step - loss: 0.6400 - acc: 0.8372\n",
      "Epoch 3/100\n",
      "1800/1800 [==============================] - 0s 122us/step - loss: 0.6028 - acc: 0.8522\n",
      "Epoch 4/100\n",
      "1800/1800 [==============================] - 0s 122us/step - loss: 0.5653 - acc: 0.8511\n",
      "Epoch 5/100\n",
      "1800/1800 [==============================] - 0s 126us/step - loss: 0.5242 - acc: 0.8578\n",
      "Epoch 6/100\n",
      "1800/1800 [==============================] - 0s 119us/step - loss: 0.4833 - acc: 0.8600\n",
      "Epoch 7/100\n",
      "1800/1800 [==============================] - 0s 123us/step - loss: 0.4474 - acc: 0.8567\n",
      "Epoch 8/100\n",
      "1800/1800 [==============================] - 0s 149us/step - loss: 0.4138 - acc: 0.8611\n",
      "Epoch 9/100\n",
      "1800/1800 [==============================] - 0s 127us/step - loss: 0.3883 - acc: 0.8611\n",
      "Epoch 10/100\n",
      "1800/1800 [==============================] - 0s 134us/step - loss: 0.3711 - acc: 0.8606\n",
      "Epoch 11/100\n",
      "1800/1800 [==============================] - 0s 130us/step - loss: 0.3565 - acc: 0.8667\n",
      "Epoch 12/100\n",
      "1800/1800 [==============================] - 0s 131us/step - loss: 0.3437 - acc: 0.8650\n",
      "Epoch 13/100\n",
      "1800/1800 [==============================] - 0s 123us/step - loss: 0.3346 - acc: 0.8689\n",
      "Epoch 14/100\n",
      "1800/1800 [==============================] - 0s 129us/step - loss: 0.3267 - acc: 0.8678\n",
      "Epoch 15/100\n",
      "1800/1800 [==============================] - 0s 133us/step - loss: 0.3200 - acc: 0.8728\n",
      "Epoch 16/100\n",
      "1800/1800 [==============================] - 0s 132us/step - loss: 0.3162 - acc: 0.8706\n",
      "Epoch 17/100\n",
      "1800/1800 [==============================] - 0s 124us/step - loss: 0.3104 - acc: 0.8706\n",
      "Epoch 18/100\n",
      "1800/1800 [==============================] - 0s 126us/step - loss: 0.3063 - acc: 0.8761\n",
      "Epoch 19/100\n",
      "1800/1800 [==============================] - 0s 122us/step - loss: 0.3040 - acc: 0.8794\n",
      "Epoch 20/100\n",
      "1800/1800 [==============================] - 0s 126us/step - loss: 0.3000 - acc: 0.8767\n",
      "Epoch 21/100\n",
      "1800/1800 [==============================] - 0s 128us/step - loss: 0.2975 - acc: 0.8811\n",
      "Epoch 22/100\n",
      "1800/1800 [==============================] - 0s 140us/step - loss: 0.2951 - acc: 0.8806\n",
      "Epoch 23/100\n",
      "1800/1800 [==============================] - 0s 127us/step - loss: 0.2921 - acc: 0.8811\n",
      "Epoch 24/100\n",
      "1800/1800 [==============================] - 0s 126us/step - loss: 0.2906 - acc: 0.8811\n",
      "Epoch 25/100\n",
      "1800/1800 [==============================] - 0s 127us/step - loss: 0.2885 - acc: 0.8839\n",
      "Epoch 26/100\n",
      "1800/1800 [==============================] - 0s 133us/step - loss: 0.2859 - acc: 0.8844\n",
      "Epoch 27/100\n",
      "1800/1800 [==============================] - 0s 137us/step - loss: 0.2842 - acc: 0.8839\n",
      "Epoch 28/100\n",
      "1800/1800 [==============================] - 0s 127us/step - loss: 0.2815 - acc: 0.8878\n",
      "Epoch 29/100\n",
      "1800/1800 [==============================] - 0s 128us/step - loss: 0.2802 - acc: 0.8883\n",
      "Epoch 30/100\n",
      "1800/1800 [==============================] - 0s 129us/step - loss: 0.2775 - acc: 0.8889\n",
      "Epoch 31/100\n",
      "1800/1800 [==============================] - 0s 129us/step - loss: 0.2755 - acc: 0.8928\n",
      "Epoch 32/100\n",
      "1800/1800 [==============================] - 0s 133us/step - loss: 0.2743 - acc: 0.8944\n",
      "Epoch 33/100\n",
      "1800/1800 [==============================] - 0s 130us/step - loss: 0.2735 - acc: 0.8928\n",
      "Epoch 34/100\n",
      "1800/1800 [==============================] - 0s 130us/step - loss: 0.2699 - acc: 0.8944\n",
      "Epoch 35/100\n",
      "1800/1800 [==============================] - 0s 134us/step - loss: 0.2676 - acc: 0.8967\n",
      "Epoch 36/100\n",
      "1800/1800 [==============================] - 0s 131us/step - loss: 0.2662 - acc: 0.8956\n",
      "Epoch 37/100\n",
      "1800/1800 [==============================] - 0s 135us/step - loss: 0.2642 - acc: 0.8950\n",
      "Epoch 38/100\n",
      "1800/1800 [==============================] - 0s 151us/step - loss: 0.2621 - acc: 0.9000\n",
      "Epoch 39/100\n",
      "1800/1800 [==============================] - 0s 163us/step - loss: 0.2611 - acc: 0.8972\n",
      "Epoch 40/100\n",
      "1800/1800 [==============================] - 0s 156us/step - loss: 0.2582 - acc: 0.8994\n",
      "Epoch 41/100\n",
      "1800/1800 [==============================] - 0s 150us/step - loss: 0.2564 - acc: 0.9006\n",
      "Epoch 42/100\n",
      "1800/1800 [==============================] - 0s 158us/step - loss: 0.2546 - acc: 0.9039\n",
      "Epoch 43/100\n",
      "1800/1800 [==============================] - 0s 135us/step - loss: 0.2530 - acc: 0.9050\n",
      "Epoch 44/100\n",
      "1800/1800 [==============================] - 0s 159us/step - loss: 0.2524 - acc: 0.9061\n",
      "Epoch 45/100\n",
      "1800/1800 [==============================] - 0s 148us/step - loss: 0.2499 - acc: 0.9061\n",
      "Epoch 46/100\n",
      "1800/1800 [==============================] - 0s 149us/step - loss: 0.2479 - acc: 0.9094\n",
      "Epoch 47/100\n",
      "1800/1800 [==============================] - 0s 136us/step - loss: 0.2482 - acc: 0.9078\n",
      "Epoch 48/100\n",
      "1800/1800 [==============================] - 0s 128us/step - loss: 0.2446 - acc: 0.9111\n",
      "Epoch 49/100\n",
      "1800/1800 [==============================] - 0s 132us/step - loss: 0.2428 - acc: 0.9117\n",
      "Epoch 50/100\n",
      "1800/1800 [==============================] - 0s 136us/step - loss: 0.2413 - acc: 0.9133\n",
      "Epoch 51/100\n",
      "1800/1800 [==============================] - 0s 138us/step - loss: 0.2378 - acc: 0.9167\n",
      "Epoch 52/100\n",
      "1800/1800 [==============================] - 0s 130us/step - loss: 0.2376 - acc: 0.9161\n",
      "Epoch 53/100\n",
      "1800/1800 [==============================] - 0s 132us/step - loss: 0.2344 - acc: 0.9183\n",
      "Epoch 54/100\n",
      "1800/1800 [==============================] - 0s 129us/step - loss: 0.2320 - acc: 0.9194\n",
      "Epoch 55/100\n",
      "1800/1800 [==============================] - 0s 124us/step - loss: 0.2303 - acc: 0.9194\n",
      "Epoch 56/100\n",
      "1800/1800 [==============================] - 0s 137us/step - loss: 0.2374 - acc: 0.9144\n",
      "Epoch 57/100\n",
      "1800/1800 [==============================] - 0s 169us/step - loss: 0.2265 - acc: 0.9217\n",
      "Epoch 58/100\n",
      "1800/1800 [==============================] - 0s 130us/step - loss: 0.2250 - acc: 0.9233\n",
      "Epoch 59/100\n",
      "1800/1800 [==============================] - 0s 123us/step - loss: 0.2234 - acc: 0.9222\n",
      "Epoch 60/100\n",
      "1800/1800 [==============================] - 0s 156us/step - loss: 0.2209 - acc: 0.9228\n",
      "Epoch 61/100\n",
      "1800/1800 [==============================] - 0s 147us/step - loss: 0.2201 - acc: 0.9239\n",
      "Epoch 62/100\n",
      "1800/1800 [==============================] - 0s 146us/step - loss: 0.2172 - acc: 0.9233\n",
      "Epoch 63/100\n",
      "1800/1800 [==============================] - 0s 183us/step - loss: 0.2152 - acc: 0.9244\n",
      "Epoch 64/100\n",
      "1800/1800 [==============================] - 0s 133us/step - loss: 0.2132 - acc: 0.9261\n",
      "Epoch 65/100\n",
      "1800/1800 [==============================] - 0s 136us/step - loss: 0.2122 - acc: 0.9228\n",
      "Epoch 66/100\n",
      "1800/1800 [==============================] - 0s 144us/step - loss: 0.2088 - acc: 0.9283\n",
      "Epoch 67/100\n",
      "1800/1800 [==============================] - 0s 145us/step - loss: 0.2074 - acc: 0.9261\n",
      "Epoch 68/100\n",
      "1800/1800 [==============================] - 0s 145us/step - loss: 0.2050 - acc: 0.9311\n",
      "Epoch 69/100\n",
      "1800/1800 [==============================] - 0s 142us/step - loss: 0.2041 - acc: 0.9306\n",
      "Epoch 70/100\n",
      "1800/1800 [==============================] - 0s 129us/step - loss: 0.2015 - acc: 0.9311\n",
      "Epoch 71/100\n",
      "1800/1800 [==============================] - 0s 161us/step - loss: 0.1997 - acc: 0.9328\n",
      "Epoch 72/100\n",
      "1800/1800 [==============================] - 0s 142us/step - loss: 0.1976 - acc: 0.9339\n",
      "Epoch 73/100\n",
      "1800/1800 [==============================] - 0s 134us/step - loss: 0.1952 - acc: 0.9333\n",
      "Epoch 74/100\n",
      "1800/1800 [==============================] - 0s 124us/step - loss: 0.1944 - acc: 0.9294\n",
      "Epoch 75/100\n",
      "1800/1800 [==============================] - 0s 129us/step - loss: 0.1907 - acc: 0.9378\n",
      "Epoch 76/100\n",
      "1800/1800 [==============================] - 0s 138us/step - loss: 0.1907 - acc: 0.9322\n",
      "Epoch 77/100\n",
      "1800/1800 [==============================] - 0s 148us/step - loss: 0.1856 - acc: 0.9378\n",
      "Epoch 78/100\n",
      "1800/1800 [==============================] - 0s 145us/step - loss: 0.1836 - acc: 0.9394\n",
      "Epoch 79/100\n",
      "1800/1800 [==============================] - 0s 152us/step - loss: 0.1851 - acc: 0.9372\n",
      "Epoch 80/100\n",
      "1800/1800 [==============================] - 0s 186us/step - loss: 0.1802 - acc: 0.9433\n",
      "Epoch 81/100\n",
      "1800/1800 [==============================] - 0s 173us/step - loss: 0.1787 - acc: 0.9422\n",
      "Epoch 82/100\n"
     ]
    },
    {
     "name": "stdout",
     "output_type": "stream",
     "text": [
      "1800/1800 [==============================] - 0s 148us/step - loss: 0.1766 - acc: 0.9467\n",
      "Epoch 83/100\n",
      "1800/1800 [==============================] - 0s 124us/step - loss: 0.1738 - acc: 0.9428\n",
      "Epoch 84/100\n",
      "1800/1800 [==============================] - 0s 132us/step - loss: 0.1729 - acc: 0.9450\n",
      "Epoch 85/100\n",
      "1800/1800 [==============================] - 0s 130us/step - loss: 0.1690 - acc: 0.9494\n",
      "Epoch 86/100\n",
      "1800/1800 [==============================] - 0s 132us/step - loss: 0.1695 - acc: 0.9456\n",
      "Epoch 87/100\n",
      "1800/1800 [==============================] - 0s 142us/step - loss: 0.1669 - acc: 0.9500\n",
      "Epoch 88/100\n",
      "1800/1800 [==============================] - 0s 141us/step - loss: 0.1648 - acc: 0.9483\n",
      "Epoch 89/100\n",
      "1800/1800 [==============================] - 0s 133us/step - loss: 0.1608 - acc: 0.9511\n",
      "Epoch 90/100\n",
      "1800/1800 [==============================] - 0s 135us/step - loss: 0.1601 - acc: 0.9522\n",
      "Epoch 91/100\n",
      "1800/1800 [==============================] - 0s 134us/step - loss: 0.1556 - acc: 0.9561\n",
      "Epoch 92/100\n",
      "1800/1800 [==============================] - 0s 135us/step - loss: 0.1543 - acc: 0.9556\n",
      "Epoch 93/100\n",
      "1800/1800 [==============================] - 0s 132us/step - loss: 0.1533 - acc: 0.9556\n",
      "Epoch 94/100\n",
      "1800/1800 [==============================] - 0s 142us/step - loss: 0.1517 - acc: 0.9567\n",
      "Epoch 95/100\n",
      "1800/1800 [==============================] - 0s 133us/step - loss: 0.1498 - acc: 0.9594\n",
      "Epoch 96/100\n",
      "1800/1800 [==============================] - 0s 142us/step - loss: 0.1557 - acc: 0.9489\n",
      "Epoch 97/100\n",
      "1800/1800 [==============================] - 0s 139us/step - loss: 0.1439 - acc: 0.9622\n",
      "Epoch 98/100\n",
      "1800/1800 [==============================] - 0s 133us/step - loss: 0.1419 - acc: 0.9622\n",
      "Epoch 99/100\n",
      "1800/1800 [==============================] - 0s 141us/step - loss: 0.1405 - acc: 0.9656\n",
      "Epoch 100/100\n",
      "1800/1800 [==============================] - 0s 131us/step - loss: 0.1382 - acc: 0.9633\n"
     ]
    },
    {
     "data": {
      "text/plain": [
       "<keras.callbacks.History at 0x7f33271dd0f0>"
      ]
     },
     "execution_count": 219,
     "metadata": {},
     "output_type": "execute_result"
    }
   ],
   "source": [
    "model.compile(loss=keras.losses.binary_crossentropy,\n",
    "              optimizer=keras.optimizers.SGD(lr=0.03),\n",
    "              metrics=['accuracy'])\n",
    "model.fit(X_train, y_train, epochs=100, batch_size=128 )\n",
    "\n"
   ]
  },
  {
   "cell_type": "code",
   "execution_count": 220,
   "metadata": {},
   "outputs": [
    {
     "name": "stdout",
     "output_type": "stream",
     "text": [
      "200/200 [==============================] - 0s 2ms/step\n",
      "[0.25300375461578367, 0.91]\n"
     ]
    }
   ],
   "source": [
    "evaluation = model.evaluate(X_test, y_test)\n",
    "print(evaluation)"
   ]
  },
  {
   "cell_type": "code",
   "execution_count": 221,
   "metadata": {},
   "outputs": [
    {
     "name": "stdout",
     "output_type": "stream",
     "text": [
      "(400,)\n",
      "(400, 1, 14, 4)\n"
     ]
    }
   ],
   "source": [
    "datfr = pd.read_csv('/home/swapnendu/Downloads/test.csv')\n",
    "datfr.fillna(0,inplace=True)\n",
    "testseq = df2['sequence']\n",
    "print(testseq.shape)\n",
    "idt = np.zeros((400,1,14))\n",
    "\n",
    "\n",
    "for i in range(400):\n",
    " idt[i] = [characters[ch] for ch in testseq[i]]\n",
    "encoded1 = to_categorical(idt)\n",
    "print(encoded1.shape)"
   ]
  },
  {
   "cell_type": "code",
   "execution_count": 222,
   "metadata": {},
   "outputs": [],
   "source": [
    "pred = model.predict(encoded1)\n",
    "r = [round(x[0]) for x in pred]\n",
    "final= pd.DataFrame(r)\n",
    "final.to_csv(\"test_result2.csv\")"
   ]
  },
  {
   "cell_type": "code",
   "execution_count": null,
   "metadata": {},
   "outputs": [],
   "source": []
  }
 ],
 "metadata": {
  "kernelspec": {
   "display_name": "Python 3",
   "language": "python",
   "name": "python3"
  },
  "language_info": {
   "codemirror_mode": {
    "name": "ipython",
    "version": 3
   },
   "file_extension": ".py",
   "mimetype": "text/x-python",
   "name": "python",
   "nbconvert_exporter": "python",
   "pygments_lexer": "ipython3",
   "version": "3.5.2"
  }
 },
 "nbformat": 4,
 "nbformat_minor": 2
}
